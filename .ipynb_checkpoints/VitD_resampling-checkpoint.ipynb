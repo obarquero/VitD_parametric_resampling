{
 "cells": [
  {
   "cell_type": "markdown",
   "metadata": {},
   "source": [
    "## Vitd Parametric Resampling study\n",
    "\n",
    "@author: Óscar Barquero Pérez\n",
    "         Rebeca Goya ESteban\n",
    "    \n",
    "    Parametric resampling.\n",
    "    We want to address the following questions: is the supply of vitD making any significant change\n",
    "    in the Tb prevalence or not? is the supply of vitD making any significant change\n",
    "    in the Tb Generalization  or not? \n",
    "    We are going to answer using parametric resampling. The presence of Tb of Tb generalized\n",
    "    is model by a Bernoulli variable, and the total population as a Binomial variable. So we resample\n",
    "    from a Binomial variabl using p_ml estimation for this year and n = to the population of this year\n",
    "    and test wheter the p_ml for other years are within the CI 95%. \n",
    "\n",
    "# Comparing every other year against 2011"
   ]
  },
  {
   "cell_type": "code",
   "execution_count": 1,
   "metadata": {
    "collapsed": true
   },
   "outputs": [],
   "source": [
    " %matplotlib inline "
   ]
  },
  {
   "cell_type": "code",
   "execution_count": 2,
   "metadata": {
    "collapsed": false
   },
   "outputs": [
    {
     "name": "stdout",
     "output_type": "stream",
     "text": [
      "CI 95% 2011: \t[ 0.33  0.83]\n",
      "p 2012: \t0.5217\n",
      "p 2013: \t0.4761\n",
      "p 2014: \t0.2916\n"
     ]
    },
    {
     "data": {
      "image/png": "[encoded data removed]",
      "text/plain": [
       "<matplotlib.figure.Figure at 0x112141350>"
      ]
     },
     "metadata": {},
     "output_type": "display_data"
    }
   ],
   "source": [
    "import pandas as pd\n",
    "import numpy as np\n",
    "import scipy as sc\n",
    "import matplotlib.pylab as plt\n",
    "\n",
    "VitD = pd.read_csv('VitD_Prev.txt',sep = '\\t')\n",
    "\n",
    "#convert to a matrix\n",
    "\n",
    "VitD_matrix = VitD.as_matrix()\n",
    "\n",
    "p = VitD_matrix[:,1].ravel()\n",
    "n = VitD_matrix[:,2].ravel()\n",
    "\n",
    "p = p/100\n",
    "\n",
    "# p_ml from year 2011\n",
    "p_2011 = p[0]\n",
    "\n",
    "#n from year 2011\n",
    "n_2011 = n[0]\n",
    "\n",
    "#Parametric bootstrap for year 2011\n",
    "N = 5000\n",
    "#N resamples taking from a binomial with parameters n_2011 and p_2011\n",
    "#Note this return the number of successes\n",
    "boot_parametric = np.random.binomial(n_2011,p_2011,(N))\n",
    "\n",
    "p_boot_est = boot_parametric/n_2011\n",
    "\n",
    "#Estimate the 95% CI \n",
    "prct = sc.percentile(p_boot_est,[2.75,97.75])\n",
    "\n",
    "#So comparing each year against 2011\n",
    "\n",
    "print \"CI 95% 2011: \\t\",np.round(prct,2)\n",
    "print \"p 2012: \\t\", p[1]\n",
    "print \"p 2013: \\t\", p[2]\n",
    "print \"p 2014: \\t\", p[3]\n",
    "\n",
    "plt.close('all')\n",
    "plt.errorbar(p_2011,4,xerr = [abs([prct[0]]-p_2011),[prct[1]-p_2011]],fmt='o',markersize = 12)\n",
    "plt.plot(p[1],3.5,'^',markersize = 12)\n",
    "plt.plot(p[2],3,'s',markersize = 12)\n",
    "plt.plot(p[3],2.5,'d',markersize = 12)\n",
    "\n",
    "plt.ylim((2,4.5))\n",
    "plt.grid()\n",
    "plt.yticks([4,3.5,3,2.5],('2011','2012','2013','2014'))\n",
    "plt.show()"
   ]
  },
  {
   "cell_type": "markdown",
   "metadata": {},
   "source": [
    "\n",
    "#-----------------------------------------------------------------------------\n",
    "#Comparing every other year with 2012\n",
    "#-----------------------------------------------------------------------------"
   ]
  },
  {
   "cell_type": "code",
   "execution_count": 3,
   "metadata": {
    "collapsed": false
   },
   "outputs": [
    {
     "name": "stdout",
     "output_type": "stream",
     "text": [
      "-----------------------------------------------------------------------\n",
      "CI 95% 2012: \t[ 0.3   0.74]\n",
      "p 2011: \t0.583\n",
      "p 2013: \t0.4761\n",
      "p 2014: \t0.2916\n"
     ]
    },
    {
     "data": {
      "image/png": "[encoded data removed]",
      "text/plain": [
       "<matplotlib.figure.Figure at 0x11217e850>"
      ]
     },
     "metadata": {},
     "output_type": "display_data"
    }
   ],
   "source": [
    "p_2012 = p[1]\n",
    "n_2012 = n[1]\n",
    "boot_parametric_2012 = np.random.binomial(n_2012,p_2012,(N))\n",
    "\n",
    "p_boot_est_2012 = boot_parametric_2012/n_2012\n",
    "\n",
    "#Estimate the 95% CI \n",
    "prct_2012 = sc.percentile(p_boot_est_2012,[2.75,97.75])\n",
    "\n",
    "#So comparing each year against 2011\n",
    "print \"-----------------------------------------------------------------------\"\n",
    "print \"CI 95% 2012: \\t\",np.round(prct_2012,2)\n",
    "print \"p 2011: \\t\", p[0]\n",
    "print \"p 2013: \\t\", p[2]\n",
    "print \"p 2014: \\t\", p[3]\n",
    "\n",
    "plt.close('all')\n",
    "plt.errorbar(p_2012,4,xerr = [abs([prct_2012[0]]-p_2012),[prct_2012[1]-p_2012]],fmt='o',markersize = 12)\n",
    "plt.plot(p[1],3.5,'^',markersize = 12)\n",
    "plt.plot(p[2],3,'s',markersize = 12)\n",
    "plt.plot(p[3],2.5,'d',markersize = 12)\n",
    "\n",
    "plt.ylim((2,4.5))\n",
    "plt.grid()\n",
    "plt.yticks([4,3.5,3,2.5],('2011','2012','2013','2014'))\n",
    "plt.show()"
   ]
  },
  {
   "cell_type": "markdown",
   "metadata": {},
   "source": [
    "#-----------------------------------------------------------------------------\n",
    "#Comparing every other year with 2013\n",
    "#-----------------------------------------------------------------------------"
   ]
  },
  {
   "cell_type": "code",
   "execution_count": 4,
   "metadata": {
    "collapsed": false
   },
   "outputs": [
    {
     "name": "stdout",
     "output_type": "stream",
     "text": [
      "-----------------------------------------------------------------------\n",
      "CI 95% 2013: \t[ 0.33  0.64]\n",
      "p 2011: \t0.583\n",
      "p 2012: \t0.5217\n",
      "p 2014: \t0.2916\n"
     ]
    },
    {
     "data": {
      "image/png": "[encoded data removed]",
      "text/plain": [
       "<matplotlib.figure.Figure at 0x103bf3910>"
      ]
     },
     "metadata": {},
     "output_type": "display_data"
    }
   ],
   "source": [
    "p_2013 = p[2]\n",
    "n_2013 = n[2]\n",
    "boot_parametric_2013 = np.random.binomial(n_2013,p_2013,(N))\n",
    "\n",
    "p_boot_est_2013 = boot_parametric_2013/n_2013\n",
    "\n",
    "#Estimate the 95% CI \n",
    "prct_2013 = sc.percentile(p_boot_est_2013,[2.75,97.75])\n",
    "\n",
    "#So comparing each year against 2011\n",
    "print \"-----------------------------------------------------------------------\"\n",
    "print \"CI 95% 2013: \\t\",np.round(prct_2013,2)\n",
    "print \"p 2011: \\t\", p[0]\n",
    "print \"p 2012: \\t\", p[1]\n",
    "print \"p 2014: \\t\", p[3]\n",
    "\n",
    "plt.close('all')\n",
    "plt.errorbar(p_2013,4,xerr = [abs([prct_2013[0]]-p_2013),[prct_2013[1]-p_2013]],fmt='o',markersize = 12)\n",
    "plt.plot(p[1],3.5,'^',markersize = 12)\n",
    "plt.plot(p[2],3,'s',markersize = 12)\n",
    "plt.plot(p[3],2.5,'d',markersize = 12)\n",
    "\n",
    "plt.ylim((2,4.5))\n",
    "plt.grid()\n",
    "plt.yticks([4,3.5,3,2.5],('2011','2012','2013','2014'))\n",
    "plt.show()"
   ]
  },
  {
   "cell_type": "markdown",
   "metadata": {},
   "source": [
    "#-----------------------------------------------------------------------------\n",
    "#Comparing every other year with 2013\n",
    "#-----------------------------------------------------------------------------"
   ]
  },
  {
   "cell_type": "code",
   "execution_count": 5,
   "metadata": {
    "collapsed": false
   },
   "outputs": [
    {
     "name": "stdout",
     "output_type": "stream",
     "text": [
      "-----------------------------------------------------------------------\n",
      "CI 95% 2014: \t[ 0.12  0.5 ]\n",
      "p 2011: \t0.583\n",
      "p 2012: \t0.5217\n",
      "p 2013: \t0.4761\n"
     ]
    },
    {
     "data": {
      "image/png": "[encoded data removed]",
      "text/plain": [
       "<matplotlib.figure.Figure at 0x10a14e310>"
      ]
     },
     "metadata": {},
     "output_type": "display_data"
    }
   ],
   "source": [
    "p_2014 = p[3]\n",
    "n_2014 = n[3]\n",
    "boot_parametric_2014 = np.random.binomial(n_2014,p_2014,(N))\n",
    "\n",
    "p_boot_est_2014 = boot_parametric_2014/n_2014\n",
    "\n",
    "#Estimate the 95% CI \n",
    "prct_2014 = sc.percentile(p_boot_est_2014,[2.75,97.75])\n",
    "\n",
    "#So comparing each year against 2011\n",
    "print \"-----------------------------------------------------------------------\"\n",
    "print \"CI 95% 2014: \\t\",np.round(prct_2014,2)\n",
    "print \"p 2011: \\t\", p[0]\n",
    "print \"p 2012: \\t\", p[1]\n",
    "print \"p 2013: \\t\", p[2]\n",
    "\n",
    "plt.close('all')\n",
    "plt.errorbar(p_2014,4,xerr = [abs([prct_2014[0]]-p_2014),[prct_2014[1]-p_2014]],fmt='o',markersize = 12)\n",
    "plt.plot(p[1],3.5,'^',markersize = 12)\n",
    "plt.plot(p[2],3,'s',markersize = 12)\n",
    "plt.plot(p[3],2.5,'d',markersize = 12)\n",
    "\n",
    "plt.ylim((2,4.5))\n",
    "plt.grid()\n",
    "plt.yticks([4,3.5,3,2.5],('2011','2012','2013','2014'))\n",
    "plt.show()"
   ]
  },
  {
   "cell_type": "code",
   "execution_count": null,
   "metadata": {
    "collapsed": true
   },
   "outputs": [],
   "source": []
  },
  {
   "cell_type": "code",
   "execution_count": null,
   "metadata": {
    "collapsed": true
   },
   "outputs": [],
   "source": []
  },
  {
   "cell_type": "code",
   "execution_count": null,
   "metadata": {
    "collapsed": true
   },
   "outputs": [],
   "source": []
  }
 ],
 "metadata": {
  "kernelspec": {
   "display_name": "Python [Root]",
   "language": "python",
   "name": "Python [Root]"
  },
  "language_info": {
   "codemirror_mode": {
    "name": "ipython",
    "version": 2
   },
   "file_extension": ".py",
   "mimetype": "text/x-python",
   "name": "python",
   "nbconvert_exporter": "python",
   "pygments_lexer": "ipython2",
   "version": "2.7.12"
  }
 },
 "nbformat": 4,
 "nbformat_minor": 0
}
